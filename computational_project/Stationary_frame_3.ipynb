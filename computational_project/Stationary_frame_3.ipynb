{
 "cells": [
  {
   "cell_type": "code",
   "execution_count": 19,
   "metadata": {},
   "outputs": [],
   "source": [
    "# Imports\n",
    "import numpy as np\n",
    "import matplotlib.pyplot as plt\n",
    "from sympy.physics.vector import dynamicsymbols\n",
    "from sympy import symbols, cos, sin, diff, sqrt, init_printing, latex, Symbol, Eq, solve, lambdify\n",
    "from scipy.integrate import solve_ivp\n",
    "import matplotlib.animation as animation\n",
    "plt.rcParams[\"animation.html\"] = \"jshtml\"\n",
    "\n",
    "# Make printouts look nicer\n",
    "latexReplaceRules = {\n",
    "    r'{\\left(t \\right)}':r' ',\n",
    "    r'\\frac{d}{d t}':r'\\dot',\n",
    "    r'\\frac{d^{2}}{d t^{2}}':r'\\ddot',\n",
    "}\n",
    "def latexNew(expr,**kwargs):\n",
    "    retStr = latex(expr,**kwargs)\n",
    "    for _,__ in latexReplaceRules.items():\n",
    "        retStr = retStr.replace(_,__)\n",
    "    return retStr\n",
    "init_printing(latex_printer=latexNew)"
   ]
  },
  {
   "cell_type": "code",
   "execution_count": 20,
   "metadata": {},
   "outputs": [],
   "source": [
    "G, M, omega, m, m0, f, a, d, e, tau = symbols(r\"G, M, \\Omega, m, m_0, f, a, d, e \\tau\", real=True)\n",
    "\n",
    "t=Symbol('t')"
   ]
  },
  {
   "cell_type": "code",
   "execution_count": 21,
   "metadata": {},
   "outputs": [
    {
     "data": {
      "image/png": "[encoded data removed]",
      "text/latex": [
       "$\\displaystyle \\frac{G M m_{0}}{\\sqrt{\\left(a f + x^{'} \\right)^{2} + \\left(y^{'}\\right)^{2} }} + \\frac{G M m}{a} + \\frac{G m m_{0}}{\\sqrt{\\left(- a \\left(1 - f\\right) + x^{'} \\right)^{2} + \\left(y^{'}\\right)^{2} }} + \\frac{0.5 M \\Omega^{2} a^{2} m}{M + m} + 0.5 \\Omega^{2} m_{0} \\left(\\left(x^{'}\\right)^{2}  + \\left(y^{'}\\right)^{2} \\right) + \\Omega m_{0} \\left(x^{'}  \\dot y^{'}  - y^{'}  \\dot x^{'} \\right) + 0.5 m_{0} \\left(\\left(\\dot x^{'} \\right)^{2} + \\left(\\dot y^{'} \\right)^{2}\\right)$"
      ],
      "text/plain": [
       "                                                                              \n",
       "             G⋅M⋅m₀                G⋅M⋅m                    G⋅m⋅m₀            \n",
       "──────────────────────────────── + ───── + ───────────────────────────────────\n",
       "   _____________________________     a        ________________________________\n",
       "  ╱                2       2                 ╱                       2       2\n",
       "╲╱  (a⋅f + x__'(t))  + y__' (t)            ╲╱  (-a⋅(1 - f) + x__'(t))  + y__' \n",
       "\n",
       "                   2  2                                                       \n",
       "       0.5⋅M⋅\\Omega ⋅a ⋅m             2    ⎛    2          2   ⎞             ⎛\n",
       "──── + ────────────────── + 0.5⋅\\Omega ⋅m₀⋅⎝x__' (t) + y__' (t)⎠ + \\Omega⋅m₀⋅⎜\n",
       "____         M + m                                                           ⎝\n",
       "                                                                              \n",
       "(t)                                                                           \n",
       "\n",
       "                                                    ⎛             2           \n",
       "        d                     d          ⎞          ⎜⎛d          ⎞    ⎛d      \n",
       "x__'(t)⋅──(y__'(t)) - y__'(t)⋅──(x__'(t))⎟ + 0.5⋅m₀⋅⎜⎜──(x__'(t))⎟  + ⎜──(y__'\n",
       "        dt                    dt         ⎠          ⎝⎝dt         ⎠    ⎝dt     \n",
       "                                                                              \n",
       "                                                                              \n",
       "\n",
       "     2⎞\n",
       "    ⎞ ⎟\n",
       "(t))⎟ ⎟\n",
       "    ⎠ ⎠\n",
       "       \n",
       "       "
      ]
     },
     "execution_count": 21,
     "metadata": {},
     "output_type": "execute_result"
    }
   ],
   "source": [
    "x, y = dynamicsymbols(\"x^', y^'\", real=True)\n",
    "x_dot = x.diff()\n",
    "y_dot = y.diff()\n",
    "\n",
    "L = (1/2) * (M*m)/(M+m) * a**2 * omega**2 + (1/2)*m0*(x_dot**2 + y_dot**2) + (1/2)*m0*omega**2*(x**2+y**2) + m0*omega *(x*y_dot - x_dot*y) + (G*M*m)/a + (G*M*m0)/(sqrt((x+f*a)**2 + y**2)) + (G*m*m0)/(sqrt((x-(1-f)*a)**2 + y**2))\n",
    "L"
   ]
  },
  {
   "cell_type": "code",
   "execution_count": 22,
   "metadata": {},
   "outputs": [
    {
     "data": {
      "image/png": "[encoded data removed]",
      "text/latex": [
       "$\\displaystyle - \\Omega m_{0} \\dot y^{'}  + 1.0 m_{0} \\ddot x^{'} $"
      ],
      "text/plain": [
       "                                   2         \n",
       "            d                     d          \n",
       "- \\Omega⋅m₀⋅──(y__'(t)) + 1.0⋅m₀⋅───(x__'(t))\n",
       "            dt                     2         \n",
       "                                 dt          "
      ]
     },
     "execution_count": 22,
     "metadata": {},
     "output_type": "execute_result"
    }
   ],
   "source": [
    "x_derivative = L.diff(x)\n",
    "x_dot_derivative = L.diff(x_dot) #same as what Prof Tamayo gets!\n",
    "x_dot_second_derivative = x_dot_derivative.diff(t)\n",
    "\n",
    "# Euler-Lagrange Equation for x \n",
    "ELx = Eq(x_derivative- x_dot_second_derivative, 0)\n",
    "x_dot_second_derivative"
   ]
  },
  {
   "cell_type": "code",
   "execution_count": 23,
   "metadata": {},
   "outputs": [
    {
     "data": {
      "image/png": "[encoded data removed]",
      "text/latex": [
       "$\\displaystyle \\Omega m_{0} \\dot x^{'}  + 1.0 m_{0} \\ddot y^{'} $"
      ],
      "text/plain": [
       "                                 2         \n",
       "          d                     d          \n",
       "\\Omega⋅m₀⋅──(x__'(t)) + 1.0⋅m₀⋅───(y__'(t))\n",
       "          dt                     2         \n",
       "                               dt          "
      ]
     },
     "execution_count": 23,
     "metadata": {},
     "output_type": "execute_result"
    }
   ],
   "source": [
    "y_derivative = L.diff(y)\n",
    "y_dot_derivative = L.diff(y_dot) #same as what Prof Tamayo gets!\n",
    "y_dot_second_derivative = y_dot_derivative.diff(t)\n",
    "\n",
    "# Euler-Lagrange Equation for y\n",
    "ELy = Eq(y_derivative- y_dot_second_derivative, 0)\n",
    "\n",
    "y_dot_second_derivative"
   ]
  },
  {
   "cell_type": "code",
   "execution_count": null,
   "metadata": {},
   "outputs": [],
   "source": []
  },
  {
   "cell_type": "code",
   "execution_count": 24,
   "metadata": {},
   "outputs": [
    {
     "data": {
      "image/png": "[encoded data removed]",
      "text/latex": [
       "$\\displaystyle \\left( - \\frac{G M a f}{\\left(\\left(a f + x^{'} \\right)^{2} + \\left(y^{'}\\right)^{2} \\right)^{\\frac{3}{2}}} - \\frac{G M x^{'} }{\\left(\\left(a f + x^{'} \\right)^{2} + \\left(y^{'}\\right)^{2} \\right)^{\\frac{3}{2}}} - \\frac{G a f m}{\\left(\\left(a f - a + x^{'} \\right)^{2} + \\left(y^{'}\\right)^{2} \\right)^{\\frac{3}{2}}} + \\frac{G a m}{\\left(\\left(a f - a + x^{'} \\right)^{2} + \\left(y^{'}\\right)^{2} \\right)^{\\frac{3}{2}}} - \\frac{G m x^{'} }{\\left(\\left(a f - a + x^{'} \\right)^{2} + \\left(y^{'}\\right)^{2} \\right)^{\\frac{3}{2}}} + \\Omega^{2} x^{'}  + 2.0 \\Omega \\dot y^{'} , \\  - \\frac{G M y^{'} }{\\left(\\left(a f + x^{'} \\right)^{2} + \\left(y^{'}\\right)^{2} \\right)^{\\frac{3}{2}}} - \\frac{G m y^{'} }{\\left(\\left(a f - a + x^{'} \\right)^{2} + \\left(y^{'}\\right)^{2} \\right)^{\\frac{3}{2}}} + \\Omega^{2} y^{'}  - 2.0 \\Omega \\dot x^{'} \\right)$"
      ],
      "text/plain": [
       "⎛              G⋅M⋅a⋅f                          G⋅M⋅x__'(t)                   \n",
       "⎜- ──────────────────────────────── - ──────────────────────────────── - ─────\n",
       "⎜                               3/2                                3/2        \n",
       "⎜  ⎛               2       2   ⎞      ⎛               2       2   ⎞      ⎛    \n",
       "⎝  ⎝(a⋅f + x__'(t))  + y__' (t)⎠      ⎝(a⋅f + x__'(t))  + y__' (t)⎠      ⎝(a⋅f\n",
       "\n",
       "         G⋅a⋅f⋅m                                 G⋅a⋅m                        \n",
       "─────────────────────────────── + ──────────────────────────────────── - ─────\n",
       "                            3/2                                    3/2        \n",
       "               2       2   ⎞      ⎛                   2       2   ⎞      ⎛    \n",
       " - a + x__'(t))  + y__' (t)⎠      ⎝(a⋅f - a + x__'(t))  + y__' (t)⎠      ⎝(a⋅f\n",
       "\n",
       "       G⋅m⋅x__'(t)                      2                      d              \n",
       "─────────────────────────────── + \\Omega ⋅x__'(t) + 2.0⋅\\Omega⋅──(y__'(t)), - \n",
       "                            3/2                                dt             \n",
       "               2       2   ⎞                                                  \n",
       " - a + x__'(t))  + y__' (t)⎠                                                  \n",
       "\n",
       "          G⋅M⋅y__'(t)                          G⋅m⋅y__'(t)                    \n",
       "──────────────────────────────── - ──────────────────────────────────── + \\Ome\n",
       "                             3/2                                    3/2       \n",
       "⎛               2       2   ⎞      ⎛                   2       2   ⎞          \n",
       "⎝(a⋅f + x__'(t))  + y__' (t)⎠      ⎝(a⋅f - a + x__'(t))  + y__' (t)⎠          \n",
       "\n",
       "  2                      d          ⎞\n",
       "ga ⋅y__'(t) - 2.0⋅\\Omega⋅──(x__'(t))⎟\n",
       "                         dt         ⎟\n",
       "                                    ⎟\n",
       "                                    ⎠"
      ]
     },
     "execution_count": 24,
     "metadata": {},
     "output_type": "execute_result"
    }
   ],
   "source": [
    "# Isolating x & y double dot\n",
    "x_doubledot= solve(ELx, x_dot.diff(t))[0] \n",
    "y_doubledot= solve(ELy, y_dot.diff(t))[0]\n",
    "\n",
    "x_doubledot, y_doubledot"
   ]
  },
  {
   "cell_type": "code",
   "execution_count": 25,
   "metadata": {},
   "outputs": [
    {
     "data": {
      "image/png": "[encoded data removed]",
      "text/latex": [
       "$\\displaystyle \\frac{d \\left(- f - X^{'}  + 1\\right)}{\\left(\\left(f + X^{'}  - 1\\right)^{2} + \\left(Y^{'}\\right)^{2} \\right)^{1.5}} - \\frac{e \\left(f + X^{'} \\right)}{2 \\left(\\left(f + X^{'} \\right)^{2} + \\left(Y^{'}\\right)^{2} \\right)^{3}} + X^{'}  + 2 \\dot Y^{'} $"
      ],
      "text/plain": [
       "                                 -1.5                                         \n",
       "  ⎛                 2       2   ⎞                                 e⋅(f + X__'(\n",
       "d⋅⎝(f + X__'(t) - 1)  + Y__' (t)⎠    ⋅(-f - X__'(t) + 1) - ───────────────────\n",
       "                                                                              \n",
       "                                                             ⎛             2  \n",
       "                                                           2⋅⎝(f + X__'(t))  +\n",
       "\n",
       "                                     \n",
       "t))                       d          \n",
       "─────────── + X__'(t) + 2⋅──(Y__'(t))\n",
       "          3               dt         \n",
       "     2   ⎞                           \n",
       " Y__' (t)⎠                           "
      ]
     },
     "execution_count": 25,
     "metadata": {},
     "output_type": "execute_result"
    }
   ],
   "source": [
    "#nondimensionalization for x=X*a, tau=t*omega\n",
    "\n",
    "#L=L.subs(omega*t, tau) #this is the nondimensionalization step w/ tau=t*omega \n",
    "\n",
    "#x_doubledot=x_doubledot.subs()\n",
    "\n",
    "X, Y = dynamicsymbols(\"X^', Y^'\", real=True)\n",
    "X_dot = X.diff()\n",
    "Y_dot = Y.diff()\n",
    "\n",
    "X_doubledot=2*Y.diff() + X +d*(1-X-f)/((f-1+X)**2 +Y**2)**1.5 -e*(X+f)/((f+X)**2+Y**2)**3/2\n",
    "\n",
    "\n",
    "X_doubledot"
   ]
  },
  {
   "cell_type": "code",
   "execution_count": 26,
   "metadata": {},
   "outputs": [
    {
     "data": {
      "image/png": "[encoded data removed]",
      "text/latex": [
       "$\\displaystyle - \\frac{d Y^{'} }{\\left(\\left(f + X^{'}  - 1\\right)^{2} + \\left(Y^{'}\\right)^{2} \\right)^{1.5}} - \\frac{e Y^{'} }{2 \\left(\\left(f + X^{'} \\right)^{2} + \\left(Y^{'}\\right)^{2} \\right)^{3}} + Y^{'}  - 2 \\dot X^{'} $"
      ],
      "text/plain": [
       "                                   -1.5                                       \n",
       "    ⎛                 2       2   ⎞                         e⋅Y__'(t)         \n",
       "- d⋅⎝(f + X__'(t) - 1)  + Y__' (t)⎠    ⋅Y__'(t) - ────────────────────────────\n",
       "                                                                              \n",
       "                                                    ⎛             2       2   \n",
       "                                                  2⋅⎝(f + X__'(t))  + Y__' (t)\n",
       "\n",
       "                            \n",
       "                 d          \n",
       "── + Y__'(t) - 2⋅──(X__'(t))\n",
       " 3               dt         \n",
       "⎞                           \n",
       "⎠                           "
      ]
     },
     "execution_count": 26,
     "metadata": {},
     "output_type": "execute_result"
    }
   ],
   "source": [
    "Y_doubledot=-2*X.diff() + Y -d*Y/((f-1+X)**2 +Y**2)**1.5 -e*(Y)/((f+X)**2+Y**2)**3/2\n",
    "\n",
    "Y_doubledot"
   ]
  },
  {
   "cell_type": "code",
   "execution_count": 27,
   "metadata": {},
   "outputs": [],
   "source": [
    "# lambdify, give eq in terms of variables, gives its inputs, then lets you input the inputs in the expression. So turn symbolic math into python function \n",
    "\n",
    "\n",
    "gx = lambdify((X, Y, d, e, f), X_doubledot, 'numpy') #Before, python solved for X dot dot and Y dot dot. So, this puts that as a function, so we can use it later for our DE. \n",
    "fy = lambdify([X, Y, d, e, f], Y_doubledot, 'numpy')\n",
    "\n",
    "def three_body_prob(tau, Z, d, e, f): #Not sure why we need it, but I added tau back in.\n",
    "    X, w, Y, z = Z #separates Z into 4 variables, corresponding to X, X dot, Y, Y dot. So...I guess Z is supposed to be a list? \n",
    "\n",
    "    X_dot = w\n",
    "    Y_dot = z\n",
    "    w_dot = gx(X, Y, d, e, f)\n",
    "    z_dot = fy(X, Y, d, e, f)\n",
    "\n",
    "    return X_dot, w_dot, Y_dot, z_dot"
   ]
  },
  {
   "cell_type": "code",
   "execution_count": 28,
   "metadata": {},
   "outputs": [],
   "source": [
    "#gives some basic parameters \n",
    "\n",
    "M=10e30\n",
    "me=10e24\n",
    "G=10e-12\n",
    "a=10e11\n",
    "Omega= 10e-7\n",
    "\n",
    "d1=G*me /(Omega*2 *a*3) #I added the ones 'cause I'm not sure if python can distinguish these actual values and the placeholder ones. \n",
    "\n",
    "e1=G*M /(Omega*2 *a*3)\n",
    "\n",
    "f1=me/(M+me)\n",
    "\n"
   ]
  },
  {
   "cell_type": "code",
   "execution_count": 29,
   "metadata": {},
   "outputs": [
    {
     "ename": "NameError",
     "evalue": "name 'Derivative' is not defined",
     "output_type": "error",
     "traceback": [
      "\u001b[1;31m---------------------------------------------------------------------------\u001b[0m",
      "\u001b[1;31mNameError\u001b[0m                                 Traceback (most recent call last)",
      "Cell \u001b[1;32mIn[29], line 14\u001b[0m\n\u001b[0;32m     10\u001b[0m \u001b[38;5;66;03m#args = (1, 1000, 10, 100, 100) # ma, M, me, G, a\u001b[39;00m\n\u001b[0;32m     12\u001b[0m args\u001b[38;5;241m=\u001b[39m (d1, e1, f1) \u001b[38;5;66;03m#this is just d, e, f, so we can insert this into three_body_prob. \u001b[39;00m\n\u001b[1;32m---> 14\u001b[0m sol \u001b[38;5;241m=\u001b[39m \u001b[43msolve_ivp\u001b[49m\u001b[43m(\u001b[49m\u001b[43mthree_body_prob\u001b[49m\u001b[43m,\u001b[49m\u001b[43m \u001b[49m\u001b[43m(\u001b[49m\u001b[43mnp\u001b[49m\u001b[38;5;241;43m.\u001b[39;49m\u001b[43mmin\u001b[49m\u001b[43m(\u001b[49m\u001b[43mt_eval\u001b[49m\u001b[43m)\u001b[49m\u001b[43m,\u001b[49m\u001b[43m \u001b[49m\u001b[43mnp\u001b[49m\u001b[38;5;241;43m.\u001b[39;49m\u001b[43mmax\u001b[49m\u001b[43m(\u001b[49m\u001b[43mt_eval\u001b[49m\u001b[43m)\u001b[49m\u001b[43m)\u001b[49m\u001b[43m,\u001b[49m\u001b[43m \u001b[49m\u001b[43minitial_conditions\u001b[49m\u001b[43m,\u001b[49m\u001b[43m \u001b[49m\u001b[43margs\u001b[49m\u001b[38;5;241;43m=\u001b[39;49m\u001b[43margs\u001b[49m\u001b[43m,\u001b[49m\u001b[43m \u001b[49m\u001b[43mt_eval\u001b[49m\u001b[38;5;241;43m=\u001b[39;49m\u001b[43mt_eval\u001b[49m\u001b[43m)\u001b[49m \u001b[38;5;66;03m#in the same order as defined above. Just returns the times you ask for. Goes like: function, interval, initial conditions, optional arguments\u001b[39;00m\n\u001b[0;32m     15\u001b[0m xa, wa, ya, za \u001b[38;5;241m=\u001b[39m sol\u001b[38;5;241m.\u001b[39my \u001b[38;5;66;03m#why is this sol.y? \u001b[39;00m\n\u001b[0;32m     16\u001b[0m t_eval \u001b[38;5;241m=\u001b[39m sol\u001b[38;5;241m.\u001b[39mt\n",
      "File \u001b[1;32mc:\\Users\\Maya\\anaconda3\\envs\\Theomech2\\lib\\site-packages\\scipy\\integrate\\_ivp\\ivp.py:621\u001b[0m, in \u001b[0;36msolve_ivp\u001b[1;34m(fun, t_span, y0, method, t_eval, dense_output, events, vectorized, args, **options)\u001b[0m\n\u001b[0;32m    618\u001b[0m \u001b[38;5;28;01mif\u001b[39;00m method \u001b[38;5;129;01min\u001b[39;00m METHODS:\n\u001b[0;32m    619\u001b[0m     method \u001b[38;5;241m=\u001b[39m METHODS[method]\n\u001b[1;32m--> 621\u001b[0m solver \u001b[38;5;241m=\u001b[39m method(fun, t0, y0, tf, vectorized\u001b[38;5;241m=\u001b[39mvectorized, \u001b[38;5;241m*\u001b[39m\u001b[38;5;241m*\u001b[39moptions)\n\u001b[0;32m    623\u001b[0m \u001b[38;5;28;01mif\u001b[39;00m t_eval \u001b[38;5;129;01mis\u001b[39;00m \u001b[38;5;28;01mNone\u001b[39;00m:\n\u001b[0;32m    624\u001b[0m     ts \u001b[38;5;241m=\u001b[39m [t0]\n",
      "File \u001b[1;32mc:\\Users\\Maya\\anaconda3\\envs\\Theomech2\\lib\\site-packages\\scipy\\integrate\\_ivp\\rk.py:94\u001b[0m, in \u001b[0;36mRungeKutta.__init__\u001b[1;34m(self, fun, t0, y0, t_bound, max_step, rtol, atol, vectorized, first_step, **extraneous)\u001b[0m\n\u001b[0;32m     92\u001b[0m \u001b[38;5;28mself\u001b[39m\u001b[38;5;241m.\u001b[39mmax_step \u001b[38;5;241m=\u001b[39m validate_max_step(max_step)\n\u001b[0;32m     93\u001b[0m \u001b[38;5;28mself\u001b[39m\u001b[38;5;241m.\u001b[39mrtol, \u001b[38;5;28mself\u001b[39m\u001b[38;5;241m.\u001b[39matol \u001b[38;5;241m=\u001b[39m validate_tol(rtol, atol, \u001b[38;5;28mself\u001b[39m\u001b[38;5;241m.\u001b[39mn)\n\u001b[1;32m---> 94\u001b[0m \u001b[38;5;28mself\u001b[39m\u001b[38;5;241m.\u001b[39mf \u001b[38;5;241m=\u001b[39m \u001b[38;5;28;43mself\u001b[39;49m\u001b[38;5;241;43m.\u001b[39;49m\u001b[43mfun\u001b[49m\u001b[43m(\u001b[49m\u001b[38;5;28;43mself\u001b[39;49m\u001b[38;5;241;43m.\u001b[39;49m\u001b[43mt\u001b[49m\u001b[43m,\u001b[49m\u001b[43m \u001b[49m\u001b[38;5;28;43mself\u001b[39;49m\u001b[38;5;241;43m.\u001b[39;49m\u001b[43my\u001b[49m\u001b[43m)\u001b[49m\n\u001b[0;32m     95\u001b[0m \u001b[38;5;28;01mif\u001b[39;00m first_step \u001b[38;5;129;01mis\u001b[39;00m \u001b[38;5;28;01mNone\u001b[39;00m:\n\u001b[0;32m     96\u001b[0m     \u001b[38;5;28mself\u001b[39m\u001b[38;5;241m.\u001b[39mh_abs \u001b[38;5;241m=\u001b[39m select_initial_step(\n\u001b[0;32m     97\u001b[0m         \u001b[38;5;28mself\u001b[39m\u001b[38;5;241m.\u001b[39mfun, \u001b[38;5;28mself\u001b[39m\u001b[38;5;241m.\u001b[39mt, \u001b[38;5;28mself\u001b[39m\u001b[38;5;241m.\u001b[39my, \u001b[38;5;28mself\u001b[39m\u001b[38;5;241m.\u001b[39mf, \u001b[38;5;28mself\u001b[39m\u001b[38;5;241m.\u001b[39mdirection,\n\u001b[0;32m     98\u001b[0m         \u001b[38;5;28mself\u001b[39m\u001b[38;5;241m.\u001b[39merror_estimator_order, \u001b[38;5;28mself\u001b[39m\u001b[38;5;241m.\u001b[39mrtol, \u001b[38;5;28mself\u001b[39m\u001b[38;5;241m.\u001b[39matol)\n",
      "File \u001b[1;32mc:\\Users\\Maya\\anaconda3\\envs\\Theomech2\\lib\\site-packages\\scipy\\integrate\\_ivp\\base.py:154\u001b[0m, in \u001b[0;36mOdeSolver.__init__.<locals>.fun\u001b[1;34m(t, y)\u001b[0m\n\u001b[0;32m    152\u001b[0m \u001b[38;5;28;01mdef\u001b[39;00m \u001b[38;5;21mfun\u001b[39m(t, y):\n\u001b[0;32m    153\u001b[0m     \u001b[38;5;28mself\u001b[39m\u001b[38;5;241m.\u001b[39mnfev \u001b[38;5;241m+\u001b[39m\u001b[38;5;241m=\u001b[39m \u001b[38;5;241m1\u001b[39m\n\u001b[1;32m--> 154\u001b[0m     \u001b[38;5;28;01mreturn\u001b[39;00m \u001b[38;5;28;43mself\u001b[39;49m\u001b[38;5;241;43m.\u001b[39;49m\u001b[43mfun_single\u001b[49m\u001b[43m(\u001b[49m\u001b[43mt\u001b[49m\u001b[43m,\u001b[49m\u001b[43m \u001b[49m\u001b[43my\u001b[49m\u001b[43m)\u001b[49m\n",
      "File \u001b[1;32mc:\\Users\\Maya\\anaconda3\\envs\\Theomech2\\lib\\site-packages\\scipy\\integrate\\_ivp\\base.py:23\u001b[0m, in \u001b[0;36mcheck_arguments.<locals>.fun_wrapped\u001b[1;34m(t, y)\u001b[0m\n\u001b[0;32m     22\u001b[0m \u001b[38;5;28;01mdef\u001b[39;00m \u001b[38;5;21mfun_wrapped\u001b[39m(t, y):\n\u001b[1;32m---> 23\u001b[0m     \u001b[38;5;28;01mreturn\u001b[39;00m np\u001b[38;5;241m.\u001b[39masarray(\u001b[43mfun\u001b[49m\u001b[43m(\u001b[49m\u001b[43mt\u001b[49m\u001b[43m,\u001b[49m\u001b[43m \u001b[49m\u001b[43my\u001b[49m\u001b[43m)\u001b[49m, dtype\u001b[38;5;241m=\u001b[39mdtype)\n",
      "File \u001b[1;32mc:\\Users\\Maya\\anaconda3\\envs\\Theomech2\\lib\\site-packages\\scipy\\integrate\\_ivp\\ivp.py:593\u001b[0m, in \u001b[0;36msolve_ivp.<locals>.fun\u001b[1;34m(t, x, fun)\u001b[0m\n\u001b[0;32m    592\u001b[0m \u001b[38;5;28;01mdef\u001b[39;00m \u001b[38;5;21mfun\u001b[39m(t, x, fun\u001b[38;5;241m=\u001b[39mfun):\n\u001b[1;32m--> 593\u001b[0m     \u001b[38;5;28;01mreturn\u001b[39;00m \u001b[43mfun\u001b[49m\u001b[43m(\u001b[49m\u001b[43mt\u001b[49m\u001b[43m,\u001b[49m\u001b[43m \u001b[49m\u001b[43mx\u001b[49m\u001b[43m,\u001b[49m\u001b[43m \u001b[49m\u001b[38;5;241;43m*\u001b[39;49m\u001b[43margs\u001b[49m\u001b[43m)\u001b[49m\n",
      "Cell \u001b[1;32mIn[27], line 12\u001b[0m, in \u001b[0;36mthree_body_prob\u001b[1;34m(tau, Z, d, e, f)\u001b[0m\n\u001b[0;32m     10\u001b[0m X_dot \u001b[38;5;241m=\u001b[39m w\n\u001b[0;32m     11\u001b[0m Y_dot \u001b[38;5;241m=\u001b[39m z\n\u001b[1;32m---> 12\u001b[0m w_dot \u001b[38;5;241m=\u001b[39m \u001b[43mgx\u001b[49m\u001b[43m(\u001b[49m\u001b[43mX\u001b[49m\u001b[43m,\u001b[49m\u001b[43m \u001b[49m\u001b[43mY\u001b[49m\u001b[43m,\u001b[49m\u001b[43m \u001b[49m\u001b[43md\u001b[49m\u001b[43m,\u001b[49m\u001b[43m \u001b[49m\u001b[43me\u001b[49m\u001b[43m,\u001b[49m\u001b[43m \u001b[49m\u001b[43mf\u001b[49m\u001b[43m)\u001b[49m\n\u001b[0;32m     13\u001b[0m z_dot \u001b[38;5;241m=\u001b[39m fy(X, Y, d, e, f)\n\u001b[0;32m     15\u001b[0m \u001b[38;5;28;01mreturn\u001b[39;00m X_dot, w_dot, Y_dot, z_dot\n",
      "File \u001b[1;32m<lambdifygenerated-1>:4\u001b[0m, in \u001b[0;36m_lambdifygenerated\u001b[1;34m(_Dummy_87, _Dummy_86, d, e, f)\u001b[0m\n\u001b[0;32m      1\u001b[0m \u001b[38;5;28;01mdef\u001b[39;00m \u001b[38;5;21m_lambdifygenerated\u001b[39m(_Dummy_87, _Dummy_86, d, e, f):\n\u001b[0;32m      2\u001b[0m     \u001b[38;5;28;01mreturn\u001b[39;00m (  \u001b[38;5;66;03m# Not supported in Python with numpy:\u001b[39;00m\n\u001b[0;32m      3\u001b[0m   \u001b[38;5;66;03m# Derivative\u001b[39;00m\n\u001b[1;32m----> 4\u001b[0m _Dummy_87 \u001b[38;5;241m+\u001b[39m d\u001b[38;5;241m*\u001b[39m(_Dummy_86\u001b[38;5;241m*\u001b[39m\u001b[38;5;241m*\u001b[39m\u001b[38;5;241m2\u001b[39m \u001b[38;5;241m+\u001b[39m (_Dummy_87 \u001b[38;5;241m+\u001b[39m f \u001b[38;5;241m-\u001b[39m \u001b[38;5;241m1\u001b[39m)\u001b[38;5;241m*\u001b[39m\u001b[38;5;241m*\u001b[39m\u001b[38;5;241m2\u001b[39m)\u001b[38;5;241m*\u001b[39m\u001b[38;5;241m*\u001b[39m(\u001b[38;5;241m-\u001b[39m\u001b[38;5;241m1.5\u001b[39m)\u001b[38;5;241m*\u001b[39m(\u001b[38;5;241m-\u001b[39m_Dummy_87 \u001b[38;5;241m-\u001b[39m f \u001b[38;5;241m+\u001b[39m \u001b[38;5;241m1\u001b[39m) \u001b[38;5;241m-\u001b[39m \u001b[38;5;241m1\u001b[39m\u001b[38;5;241m/\u001b[39m\u001b[38;5;241m2\u001b[39m\u001b[38;5;241m*\u001b[39me\u001b[38;5;241m*\u001b[39m(_Dummy_87 \u001b[38;5;241m+\u001b[39m f)\u001b[38;5;241m/\u001b[39m(_Dummy_86\u001b[38;5;241m*\u001b[39m\u001b[38;5;241m*\u001b[39m\u001b[38;5;241m2\u001b[39m \u001b[38;5;241m+\u001b[39m (_Dummy_87 \u001b[38;5;241m+\u001b[39m f)\u001b[38;5;241m*\u001b[39m\u001b[38;5;241m*\u001b[39m\u001b[38;5;241m2\u001b[39m)\u001b[38;5;241m*\u001b[39m\u001b[38;5;241m*\u001b[39m\u001b[38;5;241m3\u001b[39m \u001b[38;5;241m+\u001b[39m \u001b[38;5;241m2\u001b[39m\u001b[38;5;241m*\u001b[39m\u001b[43mDerivative\u001b[49m(_Dummy_86, t))\n",
      "\u001b[1;31mNameError\u001b[0m: name 'Derivative' is not defined"
     ]
    }
   ],
   "source": [
    "#solving the differential equation\n",
    "\n",
    "#t_eval=t does more intermediate positions\n",
    "\n",
    "t_eval = np.linspace(0, 100, 1000) #a range, specifies gaps between numbers. linspace gives start, end, jump. Don't think is necessary, 'cause we don't have time, tho.\n",
    "#Not really sure what t means, here.... I guess it's tau. So we can maybe multiply by omega later or something to get back to actual time? \n",
    "\n",
    "\n",
    "initial_conditions= [90, 0, 0, 0] #X initial, Y initial, X dot initial, Y dot initial. This is Z!!! \n",
    "#args = (1, 1000, 10, 100, 100) # ma, M, me, G, a\n",
    "\n",
    "args= (d1, e1, f1) #this is just d, e, f, so we can insert this into three_body_prob. \n",
    "\n",
    "sol = solve_ivp(three_body_prob, (np.min(t_eval), np.max(t_eval)), initial_conditions, args=args, t_eval=t_eval) #in the same order as defined above. Just returns the times you ask for. Goes like: function, interval, initial conditions, optional arguments\n",
    "xa, wa, ya, za = sol.y #why is this sol.y? \n",
    "t_eval = sol.t\n",
    "\n",
    "#Why is the derivative not defined, when I thought I defined it in Z above? \n",
    "\n",
    "#maybe I'm getting these errors bc the original function is wrong?\n",
    "\n",
    "# f_sub = ELsubs[f].subs([(M, args[1]), (me, args[0])]).evalf()\n",
    "# a_sub = args[4]\n",
    "\n",
    "# xs = -f_sub * a_sub * np.cos(t_eval)\n",
    "# ys = -f_sub * a_sub * np.sin(t_eval)\n",
    "\n",
    "# xe = (1-f_sub) * a_sub * np.cos(t_eval)\n",
    "# ye = (1-f_sub) * a_sub * np.sin(t_eval)"
   ]
  }
 ],
 "metadata": {
  "kernelspec": {
   "display_name": "Theomech2",
   "language": "python",
   "name": "python3"
  },
  "language_info": {
   "codemirror_mode": {
    "name": "ipython",
    "version": 3
   },
   "file_extension": ".py",
   "mimetype": "text/x-python",
   "name": "python",
   "nbconvert_exporter": "python",
   "pygments_lexer": "ipython3",
   "version": "3.9.20"
  }
 },
 "nbformat": 4,
 "nbformat_minor": 2
}
